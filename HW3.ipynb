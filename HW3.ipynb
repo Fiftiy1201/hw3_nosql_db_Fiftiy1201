{
 "cells": [
  {
   "cell_type": "code",
   "execution_count": 1,
   "metadata": {},
   "outputs": [
    {
     "name": "stdout",
     "output_type": "stream",
     "text": [
      "Requirement already satisfied: neo4j in /opt/anaconda3/envs/zehui/lib/python3.8/site-packages (5.24.0)\n",
      "Requirement already satisfied: pytz in /opt/anaconda3/envs/zehui/lib/python3.8/site-packages (from neo4j) (2024.1)\n",
      "Note: you may need to restart the kernel to use updated packages.\n"
     ]
    }
   ],
   "source": [
    "pip install neo4j"
   ]
  },
  {
   "cell_type": "markdown",
   "metadata": {},
   "source": [
    "## Q1 \n",
    "Refer to HW3.ipynb and HW3_Q1.jpg"
   ]
  },
  {
   "cell_type": "code",
   "execution_count": 2,
   "metadata": {},
   "outputs": [],
   "source": [
    "from neo4j import GraphDatabase\n",
    "\n",
    "class Neo4JConnection:\n",
    "    def __init__(self, uri, user, password):\n",
    "        \"\"\"Initialize the Neo4J connection with URI, username, and password.\"\"\"\n",
    "        self.driver = GraphDatabase.driver(uri, auth=(user, password))\n",
    "\n",
    "    def close(self):\n",
    "        \"\"\"Close the Neo4J connection.\"\"\"\n",
    "        if self.driver:\n",
    "            self.driver.close()\n",
    "\n",
    "    def execute_query(self, query, parameters=None):\n",
    "        \"\"\"Execute a Cypher query and return the result.\"\"\"\n",
    "        with self.driver.session() as session:\n",
    "            result = session.run(query, parameters)\n",
    "            return result.data()"
   ]
  },
  {
   "cell_type": "code",
   "execution_count": 3,
   "metadata": {},
   "outputs": [
    {
     "name": "stderr",
     "output_type": "stream",
     "text": [
      "24/09/25 22:21:58 WARN Utils: Your hostname, Helens-MacBook-Air-2.local resolves to a loopback address: 127.0.0.1; using 192.168.0.206 instead (on interface en0)\n",
      "24/09/25 22:21:58 WARN Utils: Set SPARK_LOCAL_IP if you need to bind to another address\n",
      "Setting default log level to \"WARN\".\n",
      "To adjust logging level use sc.setLogLevel(newLevel). For SparkR, use setLogLevel(newLevel).\n",
      "24/09/25 22:21:58 WARN NativeCodeLoader: Unable to load native-hadoop library for your platform... using builtin-java classes where applicable\n",
      "24/09/25 22:22:09 WARN SparkStringUtils: Truncated the string representation of a plan since it was too large. This behavior can be adjusted by setting 'spark.sql.debug.maxToStringFields'.\n",
      "                                                                                \r"
     ]
    },
    {
     "name": "stdout",
     "output_type": "stream",
     "text": [
      "+-------+------------------+-----------------+------+--------------+-----------+---------------------+--------+----+------+------+------------------+-------------------+--------------+--------------+----------------+---------------+------------------+------------------------+----------------------+\n",
      "|summary|       Customer ID|              Age|Gender|Item Purchased|   Category|Purchase Amount (USD)|Location|Size| Color|Season|     Review Rating|Subscription Status|Payment Method| Shipping Type|Discount Applied|Promo Code Used|Previous Purchases|Preferred Payment Method|Frequency of Purchases|\n",
      "+-------+------------------+-----------------+------+--------------+-----------+---------------------+--------+----+------+------+------------------+-------------------+--------------+--------------+----------------+---------------+------------------+------------------------+----------------------+\n",
      "|  count|              3900|             3900|  3900|          3900|       3900|                 3900|    3900|3900|  3900|  3900|              3900|               3900|          3900|          3900|            3900|           3900|              3900|                    3900|                  3900|\n",
      "|   mean|            1950.5|44.06846153846154|  NULL|          NULL|       NULL|    59.76435897435898|    NULL|NULL|  NULL|  NULL| 3.749948717948712|               NULL|          NULL|          NULL|            NULL|           NULL| 25.35153846153846|                    NULL|                  NULL|\n",
      "| stddev|1125.9773532358456|15.20758912716237|  NULL|          NULL|       NULL|   23.685392250875328|    NULL|NULL|  NULL|  NULL|0.7162228139312412|               NULL|          NULL|          NULL|            NULL|           NULL|14.447125170462305|                    NULL|                  NULL|\n",
      "|    min|                 1|               18|Female|      Backpack|Accessories|                   20| Alabama|   L| Beige|  Fall|               2.5|                 No| Bank Transfer|2-Day Shipping|              No|             No|                 1|           Bank Transfer|              Annually|\n",
      "|    max|              3900|               70|  Male|       T-shirt|  Outerwear|                  100| Wyoming|  XL|Yellow|Winter|               5.0|                Yes|         Venmo|  Store Pickup|             Yes|            Yes|                50|                   Venmo|                Weekly|\n",
      "+-------+------------------+-----------------+------+--------------+-----------+---------------------+--------+----+------+------+------------------+-------------------+--------------+--------------+----------------+---------------+------------------+------------------------+----------------------+\n",
      "\n",
      "+-----------+---+------+--------------+-----------+---------------------+-------------+----+---------+------+-------------+-------------------+--------------+--------------+----------------+---------------+------------------+------------------------+----------------------+\n",
      "|Customer ID|Age|Gender|Item Purchased|   Category|Purchase Amount (USD)|     Location|Size|    Color|Season|Review Rating|Subscription Status|Payment Method| Shipping Type|Discount Applied|Promo Code Used|Previous Purchases|Preferred Payment Method|Frequency of Purchases|\n",
      "+-----------+---+------+--------------+-----------+---------------------+-------------+----+---------+------+-------------+-------------------+--------------+--------------+----------------+---------------+------------------+------------------------+----------------------+\n",
      "|          1| 55|  Male|        Blouse|   Clothing|                   53|     Kentucky|   L|     Gray|Winter|          3.1|                Yes|   Credit Card|       Express|             Yes|            Yes|                14|                   Venmo|           Fortnightly|\n",
      "|          2| 19|  Male|       Sweater|   Clothing|                   64|        Maine|   L|   Maroon|Winter|          3.1|                Yes| Bank Transfer|       Express|             Yes|            Yes|                 2|                    Cash|           Fortnightly|\n",
      "|          3| 50|  Male|         Jeans|   Clothing|                   73|Massachusetts|   S|   Maroon|Spring|          3.1|                Yes|          Cash| Free Shipping|             Yes|            Yes|                23|             Credit Card|                Weekly|\n",
      "|          4| 21|  Male|       Sandals|   Footwear|                   90| Rhode Island|   M|   Maroon|Spring|          3.5|                Yes|        PayPal|  Next Day Air|             Yes|            Yes|                49|                  PayPal|                Weekly|\n",
      "|          5| 45|  Male|        Blouse|   Clothing|                   49|       Oregon|   M|Turquoise|Spring|          2.7|                Yes|          Cash| Free Shipping|             Yes|            Yes|                31|                  PayPal|              Annually|\n",
      "|          6| 46|  Male|      Sneakers|   Footwear|                   20|      Wyoming|   M|    White|Summer|          2.9|                Yes|         Venmo|      Standard|             Yes|            Yes|                14|                   Venmo|                Weekly|\n",
      "|          7| 63|  Male|         Shirt|   Clothing|                   85|      Montana|   M|     Gray|  Fall|          3.2|                Yes|    Debit Card| Free Shipping|             Yes|            Yes|                49|                    Cash|             Quarterly|\n",
      "|          8| 27|  Male|        Shorts|   Clothing|                   34|    Louisiana|   L| Charcoal|Winter|          3.2|                Yes|    Debit Card| Free Shipping|             Yes|            Yes|                19|             Credit Card|                Weekly|\n",
      "|          9| 26|  Male|          Coat|  Outerwear|                   97|West Virginia|   L|   Silver|Summer|          2.6|                Yes|         Venmo|       Express|             Yes|            Yes|                 8|                   Venmo|              Annually|\n",
      "|         10| 57|  Male|       Handbag|Accessories|                   31|     Missouri|   M|     Pink|Spring|          4.8|                Yes|        PayPal|2-Day Shipping|             Yes|            Yes|                 4|                    Cash|             Quarterly|\n",
      "|         11| 53|  Male|         Shoes|   Footwear|                   34|     Arkansas|   L|   Purple|  Fall|          4.1|                Yes|   Credit Card|  Store Pickup|             Yes|            Yes|                26|           Bank Transfer|             Bi-Weekly|\n",
      "|         12| 30|  Male|        Shorts|   Clothing|                   68|       Hawaii|   S|    Olive|Winter|          4.9|                Yes|        PayPal|  Store Pickup|             Yes|            Yes|                10|           Bank Transfer|           Fortnightly|\n",
      "|         13| 61|  Male|          Coat|  Outerwear|                   72|     Delaware|   M|     Gold|Winter|          4.5|                Yes|        PayPal|       Express|             Yes|            Yes|                37|                   Venmo|           Fortnightly|\n",
      "|         14| 65|  Male|         Dress|   Clothing|                   51|New Hampshire|   M|   Violet|Spring|          4.7|                Yes|    Debit Card|       Express|             Yes|            Yes|                31|                  PayPal|                Weekly|\n",
      "|         15| 64|  Male|          Coat|  Outerwear|                   53|     New York|   L|     Teal|Winter|          4.7|                Yes|        PayPal| Free Shipping|             Yes|            Yes|                34|              Debit Card|                Weekly|\n",
      "|         16| 64|  Male|         Skirt|   Clothing|                   81| Rhode Island|   M|     Teal|Winter|          2.8|                Yes|   Credit Card|  Store Pickup|             Yes|            Yes|                 8|                  PayPal|               Monthly|\n",
      "|         17| 25|  Male|    Sunglasses|Accessories|                   36|      Alabama|   S|     Gray|Spring|          4.1|                Yes|         Venmo|  Next Day Air|             Yes|            Yes|                44|              Debit Card|             Bi-Weekly|\n",
      "|         18| 53|  Male|         Dress|   Clothing|                   38|  Mississippi|  XL| Lavender|Winter|          4.7|                Yes|    Debit Card|2-Day Shipping|             Yes|            Yes|                36|                   Venmo|             Quarterly|\n",
      "|         19| 52|  Male|       Sweater|   Clothing|                   48|      Montana|   S|    Black|Summer|          4.6|                Yes| Bank Transfer| Free Shipping|             Yes|            Yes|                17|                    Cash|                Weekly|\n",
      "|         20| 66|  Male|         Pants|   Clothing|                   90| Rhode Island|   M|    Green|Summer|          3.3|                Yes|         Venmo|      Standard|             Yes|            Yes|                46|              Debit Card|             Bi-Weekly|\n",
      "+-----------+---+------+--------------+-----------+---------------------+-------------+----+---------+------+-------------+-------------------+--------------+--------------+----------------+---------------+------------------+------------------------+----------------------+\n",
      "only showing top 20 rows\n",
      "\n"
     ]
    }
   ],
   "source": [
    "from pyspark.sql import SparkSession\n",
    "\n",
    "# Initialize Spark session\n",
    "spark = SparkSession.builder.appName(\"ShoppingTrendsAnalysis\").getOrCreate()\n",
    "\n",
    "# Load CSV file into Spark DataFrame\n",
    "file_path = '/Users/helenyu/Desktop/14677 SYS TL CH/HW3/shopping_trends.csv'\n",
    "spark_df = spark.read.csv(file_path, header=True, inferSchema=True)\n",
    "\n",
    "descriptive_stats = spark_df.describe()\n",
    "descriptive_stats.show()\n",
    "\n",
    "spark_df.show()"
   ]
  },
  {
   "cell_type": "code",
   "execution_count": 4,
   "metadata": {},
   "outputs": [],
   "source": [
    "uri = \"neo4j+s://bc95cfdc.databases.neo4j.io\"\n",
    "user = \"neo4j\"\n",
    "password = \"bMochkdK8l-zAHJvqGNG1qxEg_zqoK72eZTJD5Vb7Gw\"\n",
    "conn = Neo4JConnection(uri, user, password)"
   ]
  },
  {
   "cell_type": "markdown",
   "metadata": {},
   "source": [
    "## Q2\n",
    "Refer to HW3.ipynb and HW3_Q2.jpg"
   ]
  },
  {
   "cell_type": "code",
   "execution_count": 6,
   "metadata": {},
   "outputs": [],
   "source": [
    "with conn.driver.session() as session:\n",
    "    for row in spark_df.collect():\n",
    "        customer = row[\"Customer ID\"]\n",
    "        age = row[\"Age\"]\n",
    "        item = row[\"Item Purchased\"]\n",
    "        location = row[\"Location\"]\n",
    "        season = row[\"Season\"]\n",
    "        shipping = row[\"Shipping Type\"]\n",
    "\n",
    "        # Modify the query to merge relationships to prevent duplicates\n",
    "        query = (\n",
    "            \"MERGE (c:Customer {name: $customer, age: $age, location: $location}) \"\n",
    "            \"MERGE (i:Item {name: $item}) \"\n",
    "            \"MERGE (c)-[r:BOUGHT]->(i) \"  # Use MERGE to prevent duplicate relationships\n",
    "            \"ON CREATE SET r.season = $season, r.shipping = $shipping \"\n",
    "            \"ON MATCH SET r.season = $season, r.shipping = $shipping \"\n",
    "        )\n",
    "\n",
    "        params = {\n",
    "            \"customer\": customer,\n",
    "            \"age\": age,\n",
    "            \"location\": location,\n",
    "            \"item\": item,\n",
    "            \"season\": season,\n",
    "            \"shipping\": shipping\n",
    "        }\n",
    "\n",
    "        session.run(query, params)\n"
   ]
  },
  {
   "cell_type": "markdown",
   "metadata": {},
   "source": [
    "## Q3\n",
    "Refer to HW3.ipynb and "
   ]
  },
  {
   "cell_type": "code",
   "execution_count": 18,
   "metadata": {},
   "outputs": [],
   "source": [
    "def find_cus_over_age_50(connection):\n",
    "    query = \"\"\"\n",
    "    MATCH (u:Customer)\n",
    "    WITH count(u) AS total_users, count(CASE WHEN u.age >= 50 THEN 1 END) AS users_50_plus\n",
    "    RETURN (toFloat(users_50_plus) / total_users) * 100 AS percentage_50_plus\n",
    "     \"\"\"\n",
    "    result = connection.execute_query(query)\n",
    "    percentage_50_plus = result[0]['percentage_50_plus']\n",
    "    print(f\"The percentage of overall customers over age of 50 is {percentage_50_plus:.2f}%\")"
   ]
  },
  {
   "cell_type": "markdown",
   "metadata": {},
   "source": [
    "## Q4\n",
    "Refer to HW3.jpynb and HW3_Q4.jpg"
   ]
  },
  {
   "cell_type": "code",
   "execution_count": 20,
   "metadata": {},
   "outputs": [],
   "source": [
    "\n",
    "def find_most_purchase_hawaii(connection):\n",
    "    # Cypher query to find the most purchased item in Hawaii\n",
    "    query = \"\"\"\n",
    "    MATCH (u:Customer {location: 'Hawaii'})-[:BOUGHT]->(i:Item)\n",
    "    WITH i.name AS item_name, count(*) AS purchase_count\n",
    "    RETURN item_name, purchase_count\n",
    "    ORDER BY purchase_count DESC\n",
    "    LIMIT 1\n",
    "    \"\"\"\n",
    "    \n",
    "    result = connection.execute_query(query)\n",
    "    item_name = result[0]['item_name']\n",
    "    purchase_count = result[0]['purchase_count']\n",
    "    print(f\"The most purchased item in Hawaii is: {item_name} with {purchase_count} purchases.\")\n"
   ]
  },
  {
   "cell_type": "markdown",
   "metadata": {},
   "source": [
    "## Q5\n",
    "Refer to HW3.ipynb and HW3_Q5.jpg\n"
   ]
  },
  {
   "cell_type": "code",
   "execution_count": 9,
   "metadata": {},
   "outputs": [],
   "source": [
    "def find_most_popular_season(connection):\n",
    "    query = \"\"\"\n",
    "    MATCH (u:Customer)-[r:BOUGHT]->(i:Item)\n",
    "    WITH r.season AS season, count(*) AS purchase_count\n",
    "    RETURN season, purchase_count\n",
    "    ORDER BY purchase_count DESC\n",
    "    LIMIT 1\n",
    "    \"\"\"\n",
    "    \n",
    "    result = connection.execute_query(query)\n",
    "    \n",
    "    # Extract the season from the result\n",
    "    if result:\n",
    "        most_popular_season = result[0]['season']\n",
    "        print(f\"The most popular season to shop in is: {most_popular_season}\")\n",
    "        return most_popular_season\n",
    "    else:\n",
    "        print(\"No season data available.\")\n",
    "        return None\n",
    "    \n",
    "\n",
    "def find_most_popular_shipping_method(connection, season):\n",
    "    query = \"\"\"\n",
    "    MATCH (u:Customer)-[r:BOUGHT {season: $season}]->(i:Item)\n",
    "    WITH r.shipping AS shipping_method, count(*) AS shipping_count\n",
    "    RETURN shipping_method, shipping_count\n",
    "    ORDER BY shipping_count DESC\n",
    "    LIMIT 1\n",
    "    \"\"\"\n",
    "    \n",
    "    result = connection.execute_query(query, {\"season\": season})\n",
    "    \n",
    "    # Extract the shipping method from the result\n",
    "    if result:\n",
    "        most_popular_shipping = result[0]['shipping_method']\n",
    "        print(f\"The most popular shipping method in {season} is: {most_popular_shipping}\")\n",
    "    else:\n",
    "        print(f\"No shipping data found for the season {season}.\")\n"
   ]
  },
  {
   "cell_type": "markdown",
   "metadata": {},
   "source": [
    "## Q6\n",
    "Refer to HW3.ipynb and HW3_Q6.jpg"
   ]
  },
  {
   "cell_type": "code",
   "execution_count": 10,
   "metadata": {},
   "outputs": [],
   "source": [
    "def recommend_popular_items_by_state(connection, state, limit=3):\n",
    "\n",
    "    query = \"\"\"\n",
    "    MATCH (u:Customer {location: $state})-[:BOUGHT]->(i:Item)\n",
    "    WITH i.name AS item_name, count(*) AS purchase_count\n",
    "    RETURN item_name, purchase_count\n",
    "    ORDER BY purchase_count DESC\n",
    "    LIMIT $limit\n",
    "    \"\"\"\n",
    "    \n",
    "    result = connection.execute_query(query, {\"state\": state, \"limit\": limit})\n",
    "    \n",
    "    # Extract and print the recommended items\n",
    "    if result:\n",
    "        print(f\"Top {len(result)} popular items in {state}:\")\n",
    "        for record in result:\n",
    "            item_name = record[\"item_name\"]\n",
    "            purchase_count = record[\"purchase_count\"]\n",
    "            print(f\"- {item_name} (purchased {purchase_count} times)\")\n",
    "    else:\n",
    "        print(f\"No purchase data found for {state}.\")\n"
   ]
  },
  {
   "cell_type": "code",
   "execution_count": 19,
   "metadata": {},
   "outputs": [
    {
     "name": "stderr",
     "output_type": "stream",
     "text": [
      "Received notification from DBMS server: {severity: WARNING} {code: Neo.ClientNotification.Statement.AggregationSkippedNull} {category: UNRECOGNIZED} {title: The query contains an aggregation function that skips null values.} {description: null value eliminated in set function.} {position: None} for query: '\\n    MATCH (u:Customer)\\n    WITH count(u) AS total_users, count(CASE WHEN u.age >= 50 THEN 1 END) AS users_50_plus\\n    RETURN (toFloat(users_50_plus) / total_users) * 100 AS percentage_50_plus\\n     '\n"
     ]
    },
    {
     "name": "stdout",
     "output_type": "stream",
     "text": [
      "The percentage of overall customers over age of 50 is 39.97%\n",
      "The most purchased item in Hawaii is: Handbag with 6 purchases.\n",
      "The most popular season to shop in is: Spring\n",
      "The most popular season to shop in is: Spring\n",
      "The most popular shipping method in Spring is: 2-Day Shipping\n",
      "Top 3 popular items in Kentucky:\n",
      "- Sweater (purchased 7 times)\n",
      "- Handbag (purchased 7 times)\n",
      "- Shirt (purchased 6 times)\n"
     ]
    }
   ],
   "source": [
    "# Main function\n",
    "def main():\n",
    "\n",
    "   uri = \"neo4j+s://bc95cfdc.databases.neo4j.io\"\n",
    "   user = \"neo4j\"\n",
    "   password = \"bMochkdK8l-zAHJvqGNG1qxEg_zqoK72eZTJD5Vb7Gw\"\n",
    "   neo4j_conn = Neo4JConnection(uri, user, password)\n",
    "\n",
    "   try:\n",
    "      find_cus_over_age_50(neo4j_conn)\n",
    "      find_most_purchase_hawaii(neo4j_conn)\n",
    "      find_most_popular_season(neo4j_conn)\n",
    "      most_popular_season = find_most_popular_season(neo4j_conn)\n",
    "      find_most_popular_shipping_method(neo4j_conn, most_popular_season)\n",
    "      recommend_popular_items_by_state(neo4j_conn, \"Kentucky\")\n",
    "   finally:\n",
    " # Close the connection when done\n",
    "      neo4j_conn.close()\n",
    "\n",
    "if __name__ == \"__main__\":\n",
    "   main()"
   ]
  }
 ],
 "metadata": {
  "kernelspec": {
   "display_name": "zehui",
   "language": "python",
   "name": "python3"
  },
  "language_info": {
   "codemirror_mode": {
    "name": "ipython",
    "version": 3
   },
   "file_extension": ".py",
   "mimetype": "text/x-python",
   "name": "python",
   "nbconvert_exporter": "python",
   "pygments_lexer": "ipython3",
   "version": "3.8.19"
  }
 },
 "nbformat": 4,
 "nbformat_minor": 2
}
